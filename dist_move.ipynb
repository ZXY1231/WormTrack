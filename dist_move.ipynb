{
 "cells": [
  {
   "cell_type": "code",
   "execution_count": 1,
   "metadata": {},
   "outputs": [
    {
     "data": {
      "text/plain": [
       "'\\n| Version | Commit\\n| 0.1     | for single pos_file from imagej \\n| 0.2     | for many worm\\n| 0.2.1   | beautify layout 190323@HF\\n| 0.3     | Use Jupter as front interface\\n'"
      ]
     },
     "execution_count": 1,
     "metadata": {},
     "output_type": "execute_result"
    }
   ],
   "source": [
    "#!/bin/python3\n",
    "import os\n",
    "import sys\n",
    "import glob\n",
    "import time\n",
    "import numpy as np\n",
    "import matplotlib.pyplot as plt\n",
    "from matplotlib.ticker import NullFormatter\n",
    "%matplotlib inline\n",
    "'''\n",
    "| Version | Commit\n",
    "| 0.1     | for single pos_file from imagej \n",
    "| 0.2     | for many worm\n",
    "| 0.2.1   | beautify layout 190323@HF\n",
    "| 0.3     | Use Jupter as front interface\n",
    "'''"
   ]
  },
  {
   "cell_type": "code",
   "execution_count": 6,
   "metadata": {},
   "outputs": [],
   "source": [
    "# Source and result dir\n",
    "pos_file = '/igem/Results/20190104/0-30-many/'\n",
    "out_dir = '/igem/Results/20190104/0-30-many/'\n",
    "pos_list = '/igem/Results/20190104/0-30-many/long_name.path'\n",
    "timestamp = time.strftime(\"%m%d%H%M\", time.localtime())\n",
    "dist_out_dir = out_dir + 'dist'+timestamp\n",
    "traj_out_dir = out_dir + 'traj'+timestamp\n",
    "if not os.path.isdir(dist_out_dir):\n",
    "    os.mkdir(dist_out_dir)\n",
    "    os.mkdir(traj_out_dir)"
   ]
  },
  {
   "cell_type": "code",
   "execution_count": 44,
   "metadata": {},
   "outputs": [],
   "source": [
    "# Load experiment data\n",
    "\n",
    "pos_dat = None # numpy array [ worm[ time[ yx]]]\n",
    "img_name = None\n",
    "done = 0\n",
    "if pos_list != '':\n",
    "    data_list = []\n",
    "    with open(pos_list, \"r\") as f:\n",
    "        line = f.readline()\n",
    "        while line:\n",
    "            data_list.append(np.loadtxt(pos_file+line.strip(), delimiter='\\t',\n",
    "                skiprows=1, usecols=[2,3]))\n",
    "            if done == 0:\n",
    "                with open(pos_file+line.strip(), 'r') as name:\n",
    "                    img_name = [line.strip().split('\\t')[4] for line in name]\n",
    "                done = 1\n",
    "            line = f.readline()\n",
    "    pos_dat = np.asarray(data_list, dtype=np.int16)\n",
    "else:\n",
    "    pos_dat = np.loadtxt(pos_file,delimiter=',', skiprows=1)\n",
    "\n",
    "# Scale and recenter trajactory\n",
    "scale = 12.5/3510\n",
    "shift = 3510/2\n",
    "fps = 2.5\n",
    "t0 = 77 # second\n",
    "\n",
    "w_total, t_total = pos_dat.shape[0:-1]\n",
    "pos_dat = (pos_dat - shift) * scale\n",
    "t_label = np.linspace(t_total-1, 0 , t_total) / fps + t0\n",
    "\n",
    "lim = 6.5 # 6cm\n"
   ]
  },
  {
   "cell_type": "code",
   "execution_count": 45,
   "metadata": {},
   "outputs": [],
   "source": [
    "# Calculate the mean in horitional and vertical\n",
    "mean_t = np.zeros([2, t_total]) \n",
    "for t_i in range(0, t_total):\n",
    "    mean_t[0][t_i] = np.mean(pos_dat[:, t_i, 1]) # x \n",
    "    mean_t[1][t_i] = np.mean(pos_dat[:, t_i, 0]) # y\n",
    "    "
   ]
  },
  {
   "cell_type": "code",
   "execution_count": 51,
   "metadata": {},
   "outputs": [
    {
     "data": {
      "image/png": "[encoded data removed]",
      "text/plain": [
       "<Figure size 432x288 with 1 Axes>"
      ]
     },
     "metadata": {},
     "output_type": "display_data"
    }
   ],
   "source": [
    "plt.figure(2)\n",
    "plt.rc('text', usetex=True)\n",
    "\n",
    "plt.plot(t_label, mean_t[0], label=r'\\textit{$D_y$}')\n",
    "plt.plot(t_label, mean_t[1], label=r'\\textit{$D_x$}')\n",
    "plt.ylabel(r'\\textbf{Distance} (cm)')\n",
    "plt.xlabel(r'\\textbf{Time} (s)')\n",
    "plt.legend()\n",
    "plt.title(\"Mean Shift of Worms' Location\")\n",
    "plt.savefig(out_dir+'/MeanShit.png', dpi=200)"
   ]
  },
  {
   "cell_type": "code",
   "execution_count": 38,
   "metadata": {},
   "outputs": [
    {
     "data": {
      "text/plain": [
       "[<matplotlib.lines.Line2D at 0x7fd3160927f0>]"
      ]
     },
     "execution_count": 38,
     "metadata": {},
     "output_type": "execute_result"
    },
    {
     "data": {
      "image/png": "[encoded data removed]",
      "text/plain": [
       "<Figure size 432x288 with 1 Axes>"
      ]
     },
     "metadata": {},
     "output_type": "display_data"
    }
   ],
   "source": []
  },
  {
   "cell_type": "code",
   "execution_count": 26,
   "metadata": {},
   "outputs": [
    {
     "name": "stdout",
     "output_type": "stream",
     "text": [
      "2099\n",
      "2098\n",
      "2097\n",
      "2096\n",
      "2095\n",
      "2094\n",
      "2093\n",
      "2092\n",
      "2091\n",
      "2090\n",
      "2089\n",
      "2088\n",
      "2087\n",
      "2086\n",
      "2085\n",
      "2084\n",
      "2083\n",
      "2082\n",
      "2081\n",
      "2080\n",
      "2079\n",
      "2078\n",
      "2077\n",
      "2076\n",
      "2075\n",
      "2074\n",
      "2073\n",
      "2072\n",
      "2071\n",
      "2070\n",
      "2069\n",
      "2068\n",
      "2067\n",
      "2066\n",
      "2065\n",
      "2064\n",
      "2063\n",
      "2062\n",
      "2061\n",
      "2060\n",
      "2059\n",
      "2058\n",
      "2057\n",
      "2056\n",
      "2055\n",
      "2054\n",
      "2053\n",
      "2052\n",
      "2051\n",
      "2050\n",
      "2049\n",
      "2048\n",
      "2047\n",
      "2046\n",
      "2045\n",
      "2044\n",
      "2043\n",
      "2042\n",
      "2041\n",
      "2040\n",
      "2039\n",
      "2038\n",
      "2037\n",
      "2036\n",
      "2035\n",
      "2034\n",
      "2033\n",
      "2032\n",
      "2031\n",
      "2030\n",
      "2029\n",
      "2028\n",
      "2027\n",
      "2026\n",
      "2025\n",
      "2024\n",
      "2023\n",
      "2022\n",
      "2021\n",
      "2020\n",
      "2019\n",
      "2018\n",
      "2017\n",
      "2016\n",
      "2015\n",
      "2014\n",
      "2013\n",
      "2012\n",
      "2011\n",
      "2010\n",
      "2009\n",
      "2008\n",
      "2007\n",
      "2006\n",
      "2005\n"
     ]
    },
    {
     "ename": "KeyboardInterrupt",
     "evalue": "",
     "output_type": "error",
     "traceback": [
      "\u001b[0;31m---------------------------------------------------------------------------\u001b[0m",
      "\u001b[0;31mKeyboardInterrupt\u001b[0m                         Traceback (most recent call last)",
      "\u001b[0;32m<ipython-input-26-3f92797aafda>\u001b[0m in \u001b[0;36m<module>\u001b[0;34m()\u001b[0m\n\u001b[1;32m     75\u001b[0m             ((t_total-t_i)/fps+77), y=-0.15, x=-1.8)\n\u001b[1;32m     76\u001b[0m     \u001b[0mplt\u001b[0m\u001b[0;34m.\u001b[0m\u001b[0mtext\u001b[0m\u001b[0;34m(\u001b[0m\u001b[0;36m7.5\u001b[0m\u001b[0;34m,\u001b[0m \u001b[0;36m7.5\u001b[0m\u001b[0;34m,\u001b[0m \u001b[0;34mr'$\\textbf{N}=$%d'\u001b[0m\u001b[0;34m%\u001b[0m\u001b[0mw_total\u001b[0m\u001b[0;34m,\u001b[0m \u001b[0mfontsize\u001b[0m \u001b[0;34m=\u001b[0m \u001b[0;36m12\u001b[0m\u001b[0;34m)\u001b[0m\u001b[0;34m\u001b[0m\u001b[0;34m\u001b[0m\u001b[0m\n\u001b[0;32m---> 77\u001b[0;31m     \u001b[0mplt\u001b[0m\u001b[0;34m.\u001b[0m\u001b[0msavefig\u001b[0m\u001b[0;34m(\u001b[0m\u001b[0mdist_out_dir\u001b[0m \u001b[0;34m+\u001b[0m\u001b[0;34m'/'\u001b[0m\u001b[0;34m+\u001b[0m\u001b[0mimg_name\u001b[0m\u001b[0;34m[\u001b[0m\u001b[0mt_i\u001b[0m\u001b[0;34m]\u001b[0m \u001b[0;34m+\u001b[0m \u001b[0;34m'.png'\u001b[0m\u001b[0;34m)\u001b[0m\u001b[0;31m#, dpi=100)\u001b[0m\u001b[0;34m\u001b[0m\u001b[0;34m\u001b[0m\u001b[0m\n\u001b[0m\u001b[1;32m     78\u001b[0m     \u001b[0;31m#plt.show()\u001b[0m\u001b[0;34m\u001b[0m\u001b[0;34m\u001b[0m\u001b[0;34m\u001b[0m\u001b[0m\n\u001b[1;32m     79\u001b[0m     \u001b[0mprint\u001b[0m\u001b[0;34m(\u001b[0m\u001b[0mt_i\u001b[0m\u001b[0;34m)\u001b[0m\u001b[0;34m\u001b[0m\u001b[0;34m\u001b[0m\u001b[0m\n",
      "\u001b[0;32m/usr/lib64/python3.7/site-packages/matplotlib/pyplot.py\u001b[0m in \u001b[0;36msavefig\u001b[0;34m(*args, **kwargs)\u001b[0m\n\u001b[1;32m    693\u001b[0m \u001b[0;32mdef\u001b[0m \u001b[0msavefig\u001b[0m\u001b[0;34m(\u001b[0m\u001b[0;34m*\u001b[0m\u001b[0margs\u001b[0m\u001b[0;34m,\u001b[0m \u001b[0;34m**\u001b[0m\u001b[0mkwargs\u001b[0m\u001b[0;34m)\u001b[0m\u001b[0;34m:\u001b[0m\u001b[0;34m\u001b[0m\u001b[0;34m\u001b[0m\u001b[0m\n\u001b[1;32m    694\u001b[0m     \u001b[0mfig\u001b[0m \u001b[0;34m=\u001b[0m \u001b[0mgcf\u001b[0m\u001b[0;34m(\u001b[0m\u001b[0;34m)\u001b[0m\u001b[0;34m\u001b[0m\u001b[0;34m\u001b[0m\u001b[0m\n\u001b[0;32m--> 695\u001b[0;31m     \u001b[0mres\u001b[0m \u001b[0;34m=\u001b[0m \u001b[0mfig\u001b[0m\u001b[0;34m.\u001b[0m\u001b[0msavefig\u001b[0m\u001b[0;34m(\u001b[0m\u001b[0;34m*\u001b[0m\u001b[0margs\u001b[0m\u001b[0;34m,\u001b[0m \u001b[0;34m**\u001b[0m\u001b[0mkwargs\u001b[0m\u001b[0;34m)\u001b[0m\u001b[0;34m\u001b[0m\u001b[0;34m\u001b[0m\u001b[0m\n\u001b[0m\u001b[1;32m    696\u001b[0m     \u001b[0mfig\u001b[0m\u001b[0;34m.\u001b[0m\u001b[0mcanvas\u001b[0m\u001b[0;34m.\u001b[0m\u001b[0mdraw_idle\u001b[0m\u001b[0;34m(\u001b[0m\u001b[0;34m)\u001b[0m   \u001b[0;31m# need this if 'transparent=True' to reset colors\u001b[0m\u001b[0;34m\u001b[0m\u001b[0;34m\u001b[0m\u001b[0m\n\u001b[1;32m    697\u001b[0m     \u001b[0;32mreturn\u001b[0m \u001b[0mres\u001b[0m\u001b[0;34m\u001b[0m\u001b[0;34m\u001b[0m\u001b[0m\n",
      "\u001b[0;32m/usr/lib64/python3.7/site-packages/matplotlib/figure.py\u001b[0m in \u001b[0;36msavefig\u001b[0;34m(self, fname, **kwargs)\u001b[0m\n\u001b[1;32m   2060\u001b[0m             \u001b[0mself\u001b[0m\u001b[0;34m.\u001b[0m\u001b[0mset_frameon\u001b[0m\u001b[0;34m(\u001b[0m\u001b[0mframeon\u001b[0m\u001b[0;34m)\u001b[0m\u001b[0;34m\u001b[0m\u001b[0;34m\u001b[0m\u001b[0m\n\u001b[1;32m   2061\u001b[0m \u001b[0;34m\u001b[0m\u001b[0m\n\u001b[0;32m-> 2062\u001b[0;31m         \u001b[0mself\u001b[0m\u001b[0;34m.\u001b[0m\u001b[0mcanvas\u001b[0m\u001b[0;34m.\u001b[0m\u001b[0mprint_figure\u001b[0m\u001b[0;34m(\u001b[0m\u001b[0mfname\u001b[0m\u001b[0;34m,\u001b[0m \u001b[0;34m**\u001b[0m\u001b[0mkwargs\u001b[0m\u001b[0;34m)\u001b[0m\u001b[0;34m\u001b[0m\u001b[0;34m\u001b[0m\u001b[0m\n\u001b[0m\u001b[1;32m   2063\u001b[0m \u001b[0;34m\u001b[0m\u001b[0m\n\u001b[1;32m   2064\u001b[0m         \u001b[0;32mif\u001b[0m \u001b[0mframeon\u001b[0m\u001b[0;34m:\u001b[0m\u001b[0;34m\u001b[0m\u001b[0;34m\u001b[0m\u001b[0m\n",
      "\u001b[0;32m/usr/lib64/python3.7/site-packages/matplotlib/backend_bases.py\u001b[0m in \u001b[0;36mprint_figure\u001b[0;34m(self, filename, dpi, facecolor, edgecolor, orientation, format, **kwargs)\u001b[0m\n\u001b[1;32m   2261\u001b[0m                 \u001b[0morientation\u001b[0m\u001b[0;34m=\u001b[0m\u001b[0morientation\u001b[0m\u001b[0;34m,\u001b[0m\u001b[0;34m\u001b[0m\u001b[0;34m\u001b[0m\u001b[0m\n\u001b[1;32m   2262\u001b[0m                 \u001b[0mbbox_inches_restore\u001b[0m\u001b[0;34m=\u001b[0m\u001b[0m_bbox_inches_restore\u001b[0m\u001b[0;34m,\u001b[0m\u001b[0;34m\u001b[0m\u001b[0;34m\u001b[0m\u001b[0m\n\u001b[0;32m-> 2263\u001b[0;31m                 **kwargs)\n\u001b[0m\u001b[1;32m   2264\u001b[0m         \u001b[0;32mfinally\u001b[0m\u001b[0;34m:\u001b[0m\u001b[0;34m\u001b[0m\u001b[0;34m\u001b[0m\u001b[0m\n\u001b[1;32m   2265\u001b[0m             \u001b[0;32mif\u001b[0m \u001b[0mbbox_inches\u001b[0m \u001b[0;32mand\u001b[0m \u001b[0mrestore_bbox\u001b[0m\u001b[0;34m:\u001b[0m\u001b[0;34m\u001b[0m\u001b[0;34m\u001b[0m\u001b[0m\n",
      "\u001b[0;32m/usr/lib64/python3.7/site-packages/matplotlib/backends/backend_agg.py\u001b[0m in \u001b[0;36mprint_png\u001b[0;34m(self, filename_or_obj, *args, **kwargs)\u001b[0m\n\u001b[1;32m    530\u001b[0m             \u001b[0;32mwith\u001b[0m \u001b[0mcbook\u001b[0m\u001b[0;34m.\u001b[0m\u001b[0mopen_file_cm\u001b[0m\u001b[0;34m(\u001b[0m\u001b[0mfilename_or_obj\u001b[0m\u001b[0;34m,\u001b[0m \u001b[0;34m\"wb\"\u001b[0m\u001b[0;34m)\u001b[0m \u001b[0;32mas\u001b[0m \u001b[0mfh\u001b[0m\u001b[0;34m:\u001b[0m\u001b[0;34m\u001b[0m\u001b[0;34m\u001b[0m\u001b[0m\n\u001b[1;32m    531\u001b[0m                 _png.write_png(renderer._renderer, fh,\n\u001b[0;32m--> 532\u001b[0;31m                                self.figure.dpi, metadata=metadata)\n\u001b[0m\u001b[1;32m    533\u001b[0m         \u001b[0;32mfinally\u001b[0m\u001b[0;34m:\u001b[0m\u001b[0;34m\u001b[0m\u001b[0;34m\u001b[0m\u001b[0m\n\u001b[1;32m    534\u001b[0m             \u001b[0mrenderer\u001b[0m\u001b[0;34m.\u001b[0m\u001b[0mdpi\u001b[0m \u001b[0;34m=\u001b[0m \u001b[0moriginal_dpi\u001b[0m\u001b[0;34m\u001b[0m\u001b[0;34m\u001b[0m\u001b[0m\n",
      "\u001b[0;31mKeyboardInterrupt\u001b[0m: "
     ]
    },
    {
     "data": {
      "image/png": "[encoded data removed]",
      "text/plain": [
       "<Figure size 576x576 with 3 Axes>"
      ]
     },
     "metadata": {},
     "output_type": "display_data"
    }
   ],
   "source": [
    "# Plot Scatter and Histgram\n",
    "\n",
    "nullfmt = NullFormatter()         # no labels\n",
    "# definitions for the axes\n",
    "left, width = 0.1, 0.65\n",
    "bottom, height = 0.1, 0.65\n",
    "bottom_h = left_h = left + width + 0.02\n",
    "\n",
    "rect_scatter = [left, bottom, width, height]\n",
    "rect_histx = [left, bottom_h, width, 0.2]\n",
    "rect_histy = [left_h, bottom, 0.2, height]\n",
    "# start with a rectangular Figure\n",
    "plt.figure(1, figsize=(8, 8))\n",
    "plt.rc('text', usetex=True)\n",
    "axScatter = plt.axes(rect_scatter)\n",
    "axHistx = plt.axes(rect_histx)\n",
    "axHisty = plt.axes(rect_histy)\n",
    "\n",
    "binwidth = 0.5\n",
    "bins = np.arange(-lim, lim + binwidth, binwidth)\n",
    "\n",
    "for t_i in range(t_total-1, 0, -1):\n",
    "    y = pos_dat[:,t_i,0]\n",
    "    x = pos_dat[:,t_i,1]\n",
    "\n",
    "    # the scatter plot:\n",
    "    #axScatter = plt.axes(rect_scatter)\n",
    "    plt.sca(axScatter)\n",
    "    plt.cla()#\n",
    "    axScatter.text(0, 6, r'M9 Buffer')\n",
    "    axScatter.text(0, -6, r'$50\\%$ Enthoal')\n",
    "    axScatter.spines['right'].set_visible(False)\n",
    "    axScatter.spines['top'].set_visible(False)\n",
    "    axScatter.xaxis.set_ticks_position('bottom')\n",
    "    axScatter.yaxis.set_ticks_position('left')\n",
    "    axScatter.scatter(x, y, c ='b', marker = '+')\n",
    "    axScatter.set_xlabel(r'$D_x$ (cm)')\n",
    "    axScatter.set_ylabel(r'$D_y$ (cm)')\n",
    "    #xymax = max(np.max(np.abs(x)), np.max(np.abs(y)))\n",
    "    axScatter.set_xlim((-lim, lim))\n",
    "    axScatter.set_ylim((-lim, lim))\n",
    "\n",
    "\n",
    "    #axHistx = plt.axes(rect_histx)\n",
    "    plt.sca(axHistx)\n",
    "    plt.cla()\n",
    "    axHistx.spines['right'].set_visible(False)\n",
    "    axHistx.spines['top'].set_visible(False)\n",
    "    axHistx.yaxis.set_ticks_position('left')\n",
    "    axHistx.xaxis.set_ticks_position('bottom')\n",
    "    axHistx.hist(x, bins=bins, color = 'b')\n",
    "    axHistx.set_xlim(axScatter.get_xlim())\n",
    "    axHistx.set_ylim((0, 40))\n",
    "    #axHisty = plt.axes(rect_histy)\n",
    "    plt.sca(axHisty)\n",
    "    plt.cla()\n",
    "    axHisty.spines['right'].set_visible(False)\n",
    "    axHisty.spines['top'].set_visible(False)\n",
    "    axHisty.yaxis.set_ticks_position('left')\n",
    "    axHisty.xaxis.set_ticks_position('bottom')\n",
    "    axHisty.hist(y, bins=bins, orientation='horizontal', color = 'b')\n",
    "    axHisty.set_ylim(axScatter.get_ylim())\n",
    "    axHisty.set_xlim((0, 40))\n",
    "\n",
    "    # no labels\n",
    "    axHistx.xaxis.set_major_formatter(nullfmt)\n",
    "    axHisty.yaxis.set_major_formatter(nullfmt)\n",
    "\n",
    "    plt.title(r'Distribution of trained 0810 Worm, after '+'%0.1fs'%\n",
    "            ((t_total-t_i)/fps+77), y=-0.15, x=-1.8)\n",
    "    plt.text(7.5, 7.5, r'$\\textbf{N}=$%d'%w_total, fontsize = 12)\n",
    "    plt.savefig(dist_out_dir +'/'+img_name[t_i] + '.png')#, dpi=100)\n",
    "    #plt.show()\n",
    "    print(t_i)\n"
   ]
  },
  {
   "cell_type": "code",
   "execution_count": null,
   "metadata": {},
   "outputs": [],
   "source": []
  }
 ],
 "metadata": {
  "kernelspec": {
   "display_name": "Python 3",
   "language": "python",
   "name": "python3"
  },
  "language_info": {
   "codemirror_mode": {
    "name": "ipython",
    "version": 3
   },
   "file_extension": ".py",
   "mimetype": "text/x-python",
   "name": "python",
   "nbconvert_exporter": "python",
   "pygments_lexer": "ipython3",
   "version": "3.7.2"
  }
 },
 "nbformat": 4,
 "nbformat_minor": 2
}

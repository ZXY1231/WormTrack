{
 "cells": [
  {
   "cell_type": "code",
   "execution_count": 5,
   "metadata": {},
   "outputs": [
    {
     "data": {
      "text/plain": [
       "'\\n| Version | Commit\\n| 0.1     | for single pos_file from imagej \\n| 0.2     | for many worm\\n| 0.2.1   | beautify layout 190323@HF\\n| 0.3     | Use Jupter as front interface\\n'"
      ]
     },
     "execution_count": 5,
     "metadata": {},
     "output_type": "execute_result"
    }
   ],
   "source": [
    "#!/bin/python3\n",
    "import os\n",
    "import sys\n",
    "import glob\n",
    "import time\n",
    "import numpy as np\n",
    "import matplotlib.pyplot as plt\n",
    "from matplotlib.ticker import NullFormatter\n",
    "%matplotlib inline\n",
    "'''\n",
    "| Version | Commit\n",
    "| 0.1     | for single pos_file from imagej \n",
    "| 0.2     | for many worm\n",
    "| 0.2.1   | beautify layout 190323@HF\n",
    "| 0.3     | Use Jupter as front interface\n",
    "'''"
   ]
  },
  {
   "cell_type": "code",
   "execution_count": 6,
   "metadata": {},
   "outputs": [],
   "source": [
    "# Source and result dir\n",
    "pos_file = '/igem/Results/20190104/0-30-many/'\n",
    "out_dir = '/igem/Results/20190104/0-30-many/'\n",
    "pos_list = '/igem/Results/20190104/0-30-many/long_name.path'\n",
    "timestamp = time.strftime(\"%m%d%H%M\", time.localtime())\n",
    "dist_out_dir = out_dir + 'dist'+timestamp\n",
    "traj_out_dir = out_dir + 'traj'+timestamp\n",
    "if not os.path.isdir(dist_out_dir):\n",
    "    os.mkdir(dist_out_dir)\n",
    "    os.mkdir(traj_out_dir)\n",
    "    #os.mkdir()"
   ]
  },
  {
   "cell_type": "code",
   "execution_count": 7,
   "metadata": {},
   "outputs": [],
   "source": [
    "# Load experiment data\n",
    "\n",
    "pos_dat = None # numpy array [ worm[ time[ yx]]]\n",
    "img_name = None\n",
    "done = 0\n",
    "if pos_list != '':\n",
    "    data_list = []\n",
    "    with open(pos_list, \"r\") as f:\n",
    "        line = f.readline()\n",
    "        while line:\n",
    "            data_list.append(np.loadtxt(pos_file+line.strip(), delimiter='\\t',\n",
    "                skiprows=1, usecols=[2,3]))\n",
    "            if done == 0:\n",
    "                with open(pos_file+line.strip(), 'r') as name:\n",
    "                    img_name = [line.strip().split('\\t')[4] for line in name]\n",
    "                done = 1\n",
    "            line = f.readline()\n",
    "    pos_dat = np.asarray(data_list, dtype=np.int16)\n",
    "else:\n",
    "    pos_dat = np.loadtxt(pos_file,delimiter=',', skiprows=1)\n",
    "\n",
    "# Scale and recenter trajactory\n",
    "scale = 12.5/3510\n",
    "shift = 3510/2\n",
    "fps = 2.5\n",
    "t0 = 77 # second\n",
    "\n",
    "w_total, t_total = pos_dat.shape[0:-1]\n",
    "pos_dat = (pos_dat - shift) * scale\n",
    "t_label = np.linspace(t_total-1, 0 , t_total) / fps + t0\n",
    "\n",
    "lim = 6.5 # 6cm\n"
   ]
  },
  {
   "cell_type": "code",
   "execution_count": 56,
   "metadata": {},
   "outputs": [],
   "source": [
    "# Calculate the mean in horitional and vertical\n",
    "mean_t = np.zeros([2, t_total]) \n",
    "\n",
    "#pos_dat = pos_dat - pos_dat[:, 0, :]\n",
    "\n",
    "for t_i in range(0, t_total):\n",
    "    mean_t[0][t_i] = np.mean(pos_dat[:, t_i, 1] - pos_dat[:, -1, 1]) # x \n",
    "    mean_t[1][t_i] = np.mean(pos_dat[:, t_i, 0] - pos_dat[:, -1, 0]) # y\n",
    "    "
   ]
  },
  {
   "cell_type": "code",
   "execution_count": 57,
   "metadata": {},
   "outputs": [
    {
     "data": {
      "image/png": "[encoded data removed]",
      "text/plain": [
       "<Figure size 432x288 with 1 Axes>"
      ]
     },
     "metadata": {},
     "output_type": "display_data"
    }
   ],
   "source": [
    "plt.figure(2)\n",
    "plt.rc('text', usetex=True)\n",
    "\n",
    "plt.plot(t_label, mean_t[0], label=r'\\textit{$D_x$}')\n",
    "plt.plot(t_label, mean_t[1], label=r'\\textit{$D_y$}')\n",
    "plt.ylabel(r'\\textbf{Distance} (cm)')\n",
    "plt.xlabel(r'\\textbf{Time} (s)')\n",
    "plt.legend()\n",
    "plt.title(\"Mean Shift of Worms' Location\")\n",
    "plt.savefig(out_dir+'/MeanShit.png', dpi=200)"
   ]
  },
  {
   "cell_type": "code",
   "execution_count": 38,
   "metadata": {},
   "outputs": [
    {
     "data": {
      "text/plain": [
       "[<matplotlib.lines.Line2D at 0x7fd3160927f0>]"
      ]
     },
     "execution_count": 38,
     "metadata": {},
     "output_type": "execute_result"
    },
    {
     "data": {
      "image/png": "[encoded data removed]",
      "text/plain": [
       "<Figure size 432x288 with 1 Axes>"
      ]
     },
     "metadata": {},
     "output_type": "display_data"
    }
   ],
   "source": []
  },
  {
   "cell_type": "markdown",
   "metadata": {},
   "source": [
    "Plot move distance move from start point"
   ]
  },
  {
   "cell_type": "code",
   "execution_count": null,
   "metadata": {},
   "outputs": [],
   "source": [
    "# Plot Scatter and Histgram\n",
    "\n",
    "nullfmt = NullFormatter()         # no labels\n",
    "# definitions for the axes\n",
    "left, width = 0.1, 0.65\n",
    "bottom, height = 0.1, 0.65\n",
    "bottom_h = left_h = left + width + 0.02\n",
    "\n",
    "rect_scatter = [left, bottom, width, height]\n",
    "rect_histx = [left, bottom_h, width, 0.2]\n",
    "rect_histy = [left_h, bottom, 0.2, height]\n",
    "# start with a rectangular Figure\n",
    "plt.figure(1, figsize=(8, 8))\n",
    "plt.rc('text', usetex=True)\n",
    "axScatter = plt.axes(rect_scatter)\n",
    "axHistx = plt.axes(rect_histx)\n",
    "axHisty = plt.axes(rect_histy)\n",
    "\n",
    "binwidth = 0.5\n",
    "bins = np.arange(-lim, lim + binwidth, binwidth)\n",
    "\n",
    "for t_i in range(t_total-1, 0, -1):\n",
    "    y = pos_dat[:,t_i,0]\n",
    "    x = pos_dat[:,t_i,1]\n",
    "\n",
    "    # the scatter plot:\n",
    "    #axScatter = plt.axes(rect_scatter)\n",
    "    plt.sca(axScatter)\n",
    "    plt.cla()#\n",
    "    axScatter.text(0, 6, r'M9 Buffer')\n",
    "    axScatter.text(0, -6, r' Enthoal')\n",
    "    axScatter.spines['right'].set_visible(False)\n",
    "    axScatter.spines['top'].set_visible(False)\n",
    "    axScatter.xaxis.set_ticks_position('bottom')\n",
    "    axScatter.yaxis.set_ticks_position('left')\n",
    "    axScatter.scatter(x, y, c ='b', marker = '+')\n",
    "    axScatter.set_xlabel(r'$D_x$ (cm)')\n",
    "    axScatter.set_ylabel(r'$D_y$ (cm)')\n",
    "    #xymax = max(np.max(np.abs(x)), np.max(np.abs(y)))\n",
    "    axScatter.set_xlim((-lim, lim))\n",
    "    axScatter.set_ylim((-lim, lim))\n",
    "\n",
    "\n",
    "    #axHistx = plt.axes(rect_histx)\n",
    "    plt.sca(axHistx)\n",
    "    plt.cla()\n",
    "    axHistx.spines['right'].set_visible(False)\n",
    "    axHistx.spines['top'].set_visible(False)\n",
    "    axHistx.yaxis.set_ticks_position('left')\n",
    "    axHistx.xaxis.set_ticks_position('bottom')\n",
    "    axHistx.hist(x, bins=bins, color = 'b')\n",
    "    axHistx.set_xlim(axScatter.get_xlim())\n",
    "    axHistx.set_ylim((0, 40))\n",
    "    #axHisty = plt.axes(rect_histy)\n",
    "    plt.sca(axHisty)\n",
    "    plt.cla()\n",
    "    axHisty.spines['right'].set_visible(False)\n",
    "    axHisty.spines['top'].set_visible(False)\n",
    "    axHisty.yaxis.set_ticks_position('left')\n",
    "    axHisty.xaxis.set_ticks_position('bottom')\n",
    "    axHisty.hist(y, bins=bins, orientation='horizontal', color = 'b')\n",
    "    axHisty.set_ylim(axScatter.get_ylim())\n",
    "    axHisty.set_xlim((0, 40))\n",
    "\n",
    "    # no labels\n",
    "    axHistx.xaxis.set_major_formatter(nullfmt)\n",
    "    axHisty.yaxis.set_major_formatter(nullfmt)\n",
    "\n",
    "    plt.title(r'Distribution of trained 0810 Worm, after '+'%0.1fs'%\n",
    "            ((t_total-t_i)/fps+77), y=-0.15, x=-1.8)\n",
    "    plt.text(7.5, 7.5, r'$\\textbf{N}=$%d'%w_total, fontsize = 12)\n",
    "    plt.savefig(dist_out_dir +'/'+img_name[t_i] + '.png')#, dpi=100)\n",
    "    #plt.show()\n",
    "    print(t_i)\n"
   ]
  },
  {
   "cell_type": "code",
   "execution_count": 23,
   "metadata": {},
   "outputs": [
    {
     "data": {
      "image/png": "[encoded data removed]",
      "text/plain": [
       "<Figure size 576x576 with 1 Axes>"
      ]
     },
     "metadata": {},
     "output_type": "display_data"
    }
   ],
   "source": [
    "# Plot Scatter of D_y ^2 between D_x\n",
    "\n",
    "nullfmt = NullFormatter()         # no labels\n",
    "# definitions for the axes\n",
    "left, width = 0.1, 0.65\n",
    "bottom, height = 0.1, 0.65\n",
    "bottom_h = left_h = left + width + 0.02\n",
    "\n",
    "rect_scatter = [left, bottom, width, height]\n",
    "# start with a rectangular Figure\n",
    "plt.figure(1, figsize=(8, 8))\n",
    "plt.rc('text', usetex=True)\n",
    "axScatter = plt.axes(rect_scatter)\n",
    "\n",
    "\n",
    "for t_i in range(t_total-1, 0, -1):\n",
    "    y = pos_dat[:,t_i,0] - pos_dat[:, -1, 0]\n",
    "    x = pos_dat[:,t_i,1] - pos_dat[:, -1, 1]\n",
    "\n",
    "    # the scatter plot:\n",
    "    plt.cla()#\n",
    "    axScatter.spines['right'].set_visible(False)\n",
    "    axScatter.spines['top'].set_visible(False)\n",
    "    axScatter.xaxis.set_ticks_position('bottom')\n",
    "    axScatter.yaxis.set_ticks_position('left')\n",
    "    axScatter.scatter(x, y*y, c='b', marker = '+')\n",
    "    axScatter.set_xlabel(r'$D_x$ (cm)')\n",
    "    axScatter.set_ylabel(r'$D_y^2$ (cm^2)')\n",
    "    axScatter.set_xlim((-lim, lim))\n",
    "    axScatter.set_ylim((0, *36))\n",
    "\n",
    "    plt.title(r'Distribution of trained 0810 Worm, after '+'%0.1fs'%((t_total-t_i)/fps+77))\n",
    "    #plt.text(7.5, 7.5, r'$\\textbf{N}=$%d'%w_total, fontsize = 12)\n",
    "    plt.savefig(traj_out_dir +'/'+img_name[t_i] + '.png')#, dpi=100)\n",
    "    #plt.show()\n",
    "    #print(t_i)"
   ]
  },
  {
   "cell_type": "code",
   "execution_count": null,
   "metadata": {},
   "outputs": [],
   "source": [
    "print(pos_dat)"
   ]
  }
 ],
 "metadata": {
  "kernelspec": {
   "display_name": "Python 3",
   "language": "python",
   "name": "python3"
  },
  "language_info": {
   "codemirror_mode": {
    "name": "ipython",
    "version": 3
   },
   "file_extension": ".py",
   "mimetype": "text/x-python",
   "name": "python",
   "nbconvert_exporter": "python",
   "pygments_lexer": "ipython3",
   "version": "3.7.2"
  }
 },
 "nbformat": 4,
 "nbformat_minor": 2
}
